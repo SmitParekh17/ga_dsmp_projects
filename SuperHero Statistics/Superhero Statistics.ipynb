{
 "cells": [
  {
   "cell_type": "markdown",
   "metadata": {},
   "source": [
    "### Superhero Statistics"
   ]
  },
  {
   "cell_type": "markdown",
   "metadata": {},
   "source": [
    "Problem Statement:\n",
    "-> The rise of superheroes and supervillains is at an all time high. The 'Academy of Super Beings(ASB)' was formed to bring order to it. We have with us the data of more than 500 super humans but we need your knowledge of descriptive statistics in figuring out the important insights from it."
   ]
  },
  {
   "cell_type": "markdown",
   "metadata": {},
   "source": [
    "Why solve this project?\n",
    "-> After completing this project, you will have a better grip on the applications of descriptive statistics. In this project, you will be applying the following concepts:\n",
    "\n",
    "- Bar plotting\n",
    "- Boxplot plotting\n",
    "- Pie-chart plotting\n",
    "- Subplot operations\n",
    "- Feature Correlation\n",
    "- IQR operations"
   ]
  },
  {
   "cell_type": "markdown",
   "metadata": {},
   "source": [
    "##### 1) Data loading"
   ]
  },
  {
   "cell_type": "code",
   "execution_count": 1,
   "metadata": {},
   "outputs": [],
   "source": [
    "path"
   ]
  },
  {
   "cell_type": "code",
   "execution_count": 8,
   "metadata": {},
   "outputs": [
    {
     "name": "stdout",
     "output_type": "stream",
     "text": [
      "   ID         Name Alignment Gender  Intelligence  Strength  Speed  \\\n",
      "0   0      3-D Man      good   Male            50        31     43   \n",
      "1   1       A-Bomb      good   Male            38       100     17   \n",
      "2   2   Abe Sapien      good   Male            88        14     35   \n",
      "3   3     Abin Sur      good   Male            50        90     53   \n",
      "4   4  Abomination       bad   Male            63        80     53   \n",
      "\n",
      "   Durability  Power  Combat  Total  Height  Weight SkinColor EyeColor  \\\n",
      "0          32     25      52    233   203.0     441         -   yellow   \n",
      "1          80     17      64    316   191.0      65      blue     blue   \n",
      "2          42     35      85    299   185.0      90       red     blue   \n",
      "3          64     84      65    406   203.0     441         -    green   \n",
      "4          90     55      95    436   -99.0     -99         -     blue   \n",
      "\n",
      "  HairColor               Race  \n",
      "0   No Hair              Human  \n",
      "1   No Hair      Icthyo Sapien  \n",
      "2   No Hair            Ungaran  \n",
      "3   No Hair  Human / Radiation  \n",
      "4     Black      Cosmic Entity  \n"
     ]
    },
    {
     "data": {
      "image/png": "[encoded data removed]",
      "text/plain": [
       "<Figure size 432x288 with 1 Axes>"
      ]
     },
     "metadata": {
      "needs_background": "light"
     },
     "output_type": "display_data"
    }
   ],
   "source": [
    "#Header files\n",
    "import pandas as pd\n",
    "import numpy as np\n",
    "import matplotlib.pyplot as plt\n",
    "\n",
    "\n",
    "#path of the data file- path\n",
    "#Code starts here \n",
    "\n",
    "#Reading of the file\n",
    "data=pd.read_csv(path)\n",
    "print(data.head())\n",
    "#Replacing '-'' in the column with 'Agender'\n",
    "data['Gender'].replace('-','Agender', inplace=True)\n",
    "\n",
    "#Storing the value counts of 'Gender'\n",
    "gender_count=data['Gender'].value_counts()\n",
    "\n",
    "#Plotting bar graph of 'gender_count'\n",
    "plt.bar(gender_count.index, gender_count)\n",
    "plt.show()\n",
    "\n",
    "#Code ends here"
   ]
  },
  {
   "cell_type": "markdown",
   "metadata": {},
   "source": [
    "##### 2) Heroes Alignment"
   ]
  },
  {
   "cell_type": "markdown",
   "metadata": {},
   "source": [
    "Next we are interested to know what's the stand of the members of 'ASB'. Does good overpower evil or does evil overwhelm good? Let's find out."
   ]
  },
  {
   "cell_type": "code",
   "execution_count": 4,
   "metadata": {},
   "outputs": [
    {
     "data": {
      "text/plain": [
       "Text(0.5, 1.0, 'Character alignment')"
      ]
     },
     "execution_count": 4,
     "metadata": {},
     "output_type": "execute_result"
    },
    {
     "data": {
      "image/png": "[encoded data removed]",
      "text/plain": [
       "<Figure size 432x432 with 1 Axes>"
      ]
     },
     "metadata": {},
     "output_type": "display_data"
    }
   ],
   "source": [
    "#Code starts here\n",
    "\n",
    "#Storing the value count of 'Alignment' \n",
    "alignment = data['Alignment'].value_counts()\n",
    "\n",
    "#Setting the figure size\n",
    "plt.figure(figsize=(6,6))\n",
    "\n",
    "#Plotting pie chart for 'alignment'\n",
    "plt.pie(alignment,labels=alignment.index,explode=(0.05,0.05,0.05),autopct='%1.1f %%')\n",
    "            \n",
    "#Setting the pie chart title\n",
    "plt.title('Character alignment')\n",
    "\n",
    "#Code ends here"
   ]
  },
  {
   "cell_type": "markdown",
   "metadata": {},
   "source": [
    "##### 3) Combat Correlation"
   ]
  },
  {
   "cell_type": "markdown",
   "metadata": {},
   "source": [
    "For any of the members, combat skills are really important to survive when they find themselves in unwanted situtations. But does combat relate to person's strength or it's intelligence? Let's find out"
   ]
  },
  {
   "cell_type": "code",
   "execution_count": 5,
   "metadata": {},
   "outputs": [
    {
     "name": "stdout",
     "output_type": "stream",
     "text": [
      "Pearson's Correlation Coefficient between Strength and Combat :  0.5720958235612106\n",
      "Pearson's Correlation Coefficient between Intelligence and Combat :  0.7821504525171137\n"
     ]
    }
   ],
   "source": [
    "#Code starts here\n",
    "\n",
    "#Subsetting the data with columns ['Strength', 'Combat']\n",
    "sc_df = data[['Strength','Combat']].copy()\n",
    "\n",
    "#Finding covariance between 'Strength' and 'Combat'\n",
    "sc_covariance = sc_df.cov().iloc[0,1]\n",
    "\n",
    "#Finding the standard deviation of 'Strength'\n",
    "sc_strength = sc_df['Strength'].std()\n",
    "\n",
    "#Finding the standard deviation of 'Combat'\n",
    "sc_combat = sc_df['Combat'].std()\n",
    "\n",
    "#Calculating the Pearson's correlation between 'Strength' and 'Combat'\n",
    "sc_pearson = sc_covariance/(sc_combat*sc_strength)\n",
    "\n",
    "print(\"Pearson's Correlation Coefficient between Strength and Combat : \", sc_pearson)\n",
    "\n",
    "\n",
    "#Subsetting the data with columns ['Intelligence', 'Combat']\n",
    "ic_df = data[['Intelligence','Combat']].copy()\n",
    "\n",
    "#Finding covariance between 'Intelligence' and 'Combat'\n",
    "ic_covariance = ic_df.cov().iloc[0,1]\n",
    "\n",
    "#Finding the standard deviation of 'Intelligence'\n",
    "ic_intelligence = ic_df['Intelligence'].std()\n",
    "\n",
    "#Finding the standard deviation of 'Combat'\n",
    "ic_combat = ic_df['Combat'].std()\n",
    "\n",
    "#Calculating the Pearson's correlation between 'Intelligence' and 'Combat'\n",
    "ic_pearson = ic_covariance/(ic_intelligence*ic_combat)\n",
    "\n",
    "print(\"Pearson's Correlation Coefficient between Intelligence and Combat : \", ic_pearson)\n",
    "\n",
    "#Code ends here"
   ]
  },
  {
   "cell_type": "markdown",
   "metadata": {},
   "source": [
    "##### 4) Overpowered Super Beings"
   ]
  },
  {
   "cell_type": "markdown",
   "metadata": {},
   "source": [
    "Who are the best of the best in this superhero universe? Let's find out."
   ]
  },
  {
   "cell_type": "code",
   "execution_count": 6,
   "metadata": {},
   "outputs": [
    {
     "name": "stdout",
     "output_type": "stream",
     "text": [
      "['Amazo', 'General Zod', 'Martian Manhunter', 'Stardust', 'Superboy-Prime', 'Superman']\n"
     ]
    }
   ],
   "source": [
    "#Code starts here\n",
    "\n",
    "#Find the quantile=0.99 value of 'Total' column\n",
    "total_high= data['Total'].quantile(q=0.99)\n",
    "\n",
    "#Subsetting the dataframe based on 'total_high' \n",
    "super_best=data[data['Total']>total_high]\n",
    "\n",
    "#Creating a list of 'Name' associated with the 'super_best' dataframe\n",
    "super_best_names=list(super_best['Name'])\n",
    "\n",
    "#Printing the names\n",
    "print(super_best_names)\n",
    "\n",
    "#Code ends here"
   ]
  },
  {
   "cell_type": "markdown",
   "metadata": {},
   "source": [
    "##### 5) Statistics for Survival"
   ]
  },
  {
   "cell_type": "markdown",
   "metadata": {},
   "source": [
    "Of the top 1% members of 'ASB', we want to measure certain attributes in case they go rogue and become threatening to the human kind."
   ]
  },
  {
   "cell_type": "code",
   "execution_count": 7,
   "metadata": {},
   "outputs": [
    {
     "data": {
      "text/plain": [
       "[Text(0.5, 1.0, 'Power')]"
      ]
     },
     "execution_count": 7,
     "metadata": {},
     "output_type": "execute_result"
    },
    {
     "data": {
      "image/png": "[encoded data removed]",
      "text/plain": [
       "<Figure size 1440x576 with 3 Axes>"
      ]
     },
     "metadata": {
      "needs_background": "light"
     },
     "output_type": "display_data"
    }
   ],
   "source": [
    "#Code starts here\n",
    "\n",
    "#Setting up the subplots\n",
    "fig, (ax_1, ax_2,ax_3) = plt.subplots(1,3, figsize=(20,8))\n",
    "\n",
    "#Plotting box plot\n",
    "ax_1.boxplot(super_best['Intelligence'])\n",
    "\n",
    "#Setting the subplot axis title\n",
    "ax_1.set(title='Intelligence')\n",
    "\n",
    "\n",
    "#Plotting box plot\n",
    "ax_2.boxplot(super_best['Speed'])\n",
    "\n",
    "#Setting the subplot axis title\n",
    "ax_2.set(title='Speed')\n",
    "\n",
    "\n",
    "#Plotting box plot\n",
    "ax_3.boxplot(super_best['Power'])\n",
    "\n",
    "#Setting the subplot axis title\n",
    "ax_3.set(title='Power')\n",
    "\n",
    "#Code ends here   "
   ]
  },
  {
   "cell_type": "code",
   "execution_count": null,
   "metadata": {},
   "outputs": [],
   "source": []
  }
 ],
 "metadata": {
  "kernelspec": {
   "display_name": "Python 3",
   "language": "python",
   "name": "python3"
  },
  "language_info": {
   "codemirror_mode": {
    "name": "ipython",
    "version": 3
   },
   "file_extension": ".py",
   "mimetype": "text/x-python",
   "name": "python",
   "nbconvert_exporter": "python",
   "pygments_lexer": "ipython3",
   "version": "3.7.3"
  }
 },
 "nbformat": 4,
 "nbformat_minor": 2
}

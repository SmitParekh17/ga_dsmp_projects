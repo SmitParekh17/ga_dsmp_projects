{
 "cells": [
  {
   "cell_type": "markdown",
   "metadata": {},
   "source": [
    "### Car insurance claim"
   ]
  },
  {
   "cell_type": "markdown",
   "metadata": {},
   "source": [
    "As you are working in the insurance company. Company wants to know the reason why claim was not made. Doing so would allow insurance company to improve there policy for giving loan to the customer."
   ]
  },
  {
   "cell_type": "markdown",
   "metadata": {},
   "source": [
    "Why solve this project?\n",
    "\n",
    "This is imbalanced dataset . Here 0 - Claim was not made, 1 - Claim made. After completing this project, you will have the better understanding of how to build deal with imbalanced dataset. In this project, you will apply the following concepts.\n",
    "\n",
    "- Train-test split\n",
    "- Standard scaler\n",
    "- Logistic Regression\n",
    "- SMOTE\n",
    "- feature scaling"
   ]
  },
  {
   "cell_type": "code",
   "execution_count": 3,
   "metadata": {},
   "outputs": [],
   "source": [
    "import warnings\n",
    "import pprint\n",
    "warnings.filterwarnings('ignore')\n",
    "pd.set_option('display.max_rows', 5000)\n",
    "pd.set_option('display.max_columns', 500)\n",
    "pd.set_option('display.width', 1000)\n",
    "pd.options.display.float_format = '{:.2f}'.format"
   ]
  },
  {
   "cell_type": "markdown",
   "metadata": {},
   "source": [
    "##### Data loading and cleaning"
   ]
  },
  {
   "cell_type": "code",
   "execution_count": 1,
   "metadata": {},
   "outputs": [],
   "source": [
    "path"
   ]
  },
  {
   "cell_type": "code",
   "execution_count": 13,
   "metadata": {},
   "outputs": [
    {
     "data": {
      "text/html": [
       "<div>\n",
       "<style scoped>\n",
       "    .dataframe tbody tr th:only-of-type {\n",
       "        vertical-align: middle;\n",
       "    }\n",
       "\n",
       "    .dataframe tbody tr th {\n",
       "        vertical-align: top;\n",
       "    }\n",
       "\n",
       "    .dataframe thead th {\n",
       "        text-align: right;\n",
       "    }\n",
       "</style>\n",
       "<table border=\"1\" class=\"dataframe\">\n",
       "  <thead>\n",
       "    <tr style=\"text-align: right;\">\n",
       "      <th></th>\n",
       "      <th>ID</th>\n",
       "      <th>KIDSDRIV</th>\n",
       "      <th>AGE</th>\n",
       "      <th>HOMEKIDS</th>\n",
       "      <th>YOJ</th>\n",
       "      <th>INCOME</th>\n",
       "      <th>PARENT1</th>\n",
       "      <th>HOME_VAL</th>\n",
       "      <th>MSTATUS</th>\n",
       "      <th>GENDER</th>\n",
       "      <th>EDUCATION</th>\n",
       "      <th>OCCUPATION</th>\n",
       "      <th>TRAVTIME</th>\n",
       "      <th>CAR_USE</th>\n",
       "      <th>BLUEBOOK</th>\n",
       "      <th>TIF</th>\n",
       "      <th>CAR_TYPE</th>\n",
       "      <th>RED_CAR</th>\n",
       "      <th>OLDCLAIM</th>\n",
       "      <th>CLM_FREQ</th>\n",
       "      <th>REVOKED</th>\n",
       "      <th>MVR_PTS</th>\n",
       "      <th>CLM_AMT</th>\n",
       "      <th>CAR_AGE</th>\n",
       "      <th>CLAIM_FLAG</th>\n",
       "    </tr>\n",
       "  </thead>\n",
       "  <tbody>\n",
       "    <tr>\n",
       "      <th>0</th>\n",
       "      <td>63581743</td>\n",
       "      <td>0</td>\n",
       "      <td>60.00</td>\n",
       "      <td>0</td>\n",
       "      <td>11.00</td>\n",
       "      <td>$67,349</td>\n",
       "      <td>No</td>\n",
       "      <td>$0</td>\n",
       "      <td>z_No</td>\n",
       "      <td>M</td>\n",
       "      <td>PhD</td>\n",
       "      <td>Professional</td>\n",
       "      <td>14</td>\n",
       "      <td>Private</td>\n",
       "      <td>$14,230</td>\n",
       "      <td>11</td>\n",
       "      <td>Minivan</td>\n",
       "      <td>yes</td>\n",
       "      <td>$4,461</td>\n",
       "      <td>2</td>\n",
       "      <td>No</td>\n",
       "      <td>3</td>\n",
       "      <td>$0</td>\n",
       "      <td>18.00</td>\n",
       "      <td>0</td>\n",
       "    </tr>\n",
       "    <tr>\n",
       "      <th>1</th>\n",
       "      <td>132761049</td>\n",
       "      <td>0</td>\n",
       "      <td>43.00</td>\n",
       "      <td>0</td>\n",
       "      <td>11.00</td>\n",
       "      <td>$91,449</td>\n",
       "      <td>No</td>\n",
       "      <td>$257,252</td>\n",
       "      <td>z_No</td>\n",
       "      <td>M</td>\n",
       "      <td>z_High School</td>\n",
       "      <td>z_Blue Collar</td>\n",
       "      <td>22</td>\n",
       "      <td>Commercial</td>\n",
       "      <td>$14,940</td>\n",
       "      <td>1</td>\n",
       "      <td>Minivan</td>\n",
       "      <td>yes</td>\n",
       "      <td>$0</td>\n",
       "      <td>0</td>\n",
       "      <td>No</td>\n",
       "      <td>0</td>\n",
       "      <td>$0</td>\n",
       "      <td>1.00</td>\n",
       "      <td>0</td>\n",
       "    </tr>\n",
       "    <tr>\n",
       "      <th>2</th>\n",
       "      <td>921317019</td>\n",
       "      <td>0</td>\n",
       "      <td>48.00</td>\n",
       "      <td>0</td>\n",
       "      <td>11.00</td>\n",
       "      <td>$52,881</td>\n",
       "      <td>No</td>\n",
       "      <td>$0</td>\n",
       "      <td>z_No</td>\n",
       "      <td>M</td>\n",
       "      <td>Bachelors</td>\n",
       "      <td>Manager</td>\n",
       "      <td>26</td>\n",
       "      <td>Private</td>\n",
       "      <td>$21,970</td>\n",
       "      <td>1</td>\n",
       "      <td>Van</td>\n",
       "      <td>yes</td>\n",
       "      <td>$0</td>\n",
       "      <td>0</td>\n",
       "      <td>No</td>\n",
       "      <td>2</td>\n",
       "      <td>$0</td>\n",
       "      <td>10.00</td>\n",
       "      <td>0</td>\n",
       "    </tr>\n",
       "    <tr>\n",
       "      <th>3</th>\n",
       "      <td>727598473</td>\n",
       "      <td>0</td>\n",
       "      <td>35.00</td>\n",
       "      <td>1</td>\n",
       "      <td>10.00</td>\n",
       "      <td>$16,039</td>\n",
       "      <td>No</td>\n",
       "      <td>$124,191</td>\n",
       "      <td>Yes</td>\n",
       "      <td>z_F</td>\n",
       "      <td>z_High School</td>\n",
       "      <td>Clerical</td>\n",
       "      <td>5</td>\n",
       "      <td>Private</td>\n",
       "      <td>$4,010</td>\n",
       "      <td>4</td>\n",
       "      <td>z_SUV</td>\n",
       "      <td>no</td>\n",
       "      <td>$38,690</td>\n",
       "      <td>2</td>\n",
       "      <td>No</td>\n",
       "      <td>3</td>\n",
       "      <td>$0</td>\n",
       "      <td>10.00</td>\n",
       "      <td>0</td>\n",
       "    </tr>\n",
       "    <tr>\n",
       "      <th>4</th>\n",
       "      <td>450221861</td>\n",
       "      <td>0</td>\n",
       "      <td>51.00</td>\n",
       "      <td>0</td>\n",
       "      <td>14.00</td>\n",
       "      <td>NaN</td>\n",
       "      <td>No</td>\n",
       "      <td>$306,251</td>\n",
       "      <td>Yes</td>\n",
       "      <td>M</td>\n",
       "      <td>&lt;High School</td>\n",
       "      <td>z_Blue Collar</td>\n",
       "      <td>32</td>\n",
       "      <td>Private</td>\n",
       "      <td>$15,440</td>\n",
       "      <td>7</td>\n",
       "      <td>Minivan</td>\n",
       "      <td>yes</td>\n",
       "      <td>$0</td>\n",
       "      <td>0</td>\n",
       "      <td>No</td>\n",
       "      <td>0</td>\n",
       "      <td>$0</td>\n",
       "      <td>6.00</td>\n",
       "      <td>0</td>\n",
       "    </tr>\n",
       "  </tbody>\n",
       "</table>\n",
       "</div>"
      ],
      "text/plain": [
       "          ID  KIDSDRIV   AGE  HOMEKIDS   YOJ   INCOME PARENT1  HOME_VAL MSTATUS GENDER      EDUCATION     OCCUPATION  TRAVTIME     CAR_USE BLUEBOOK  TIF CAR_TYPE RED_CAR OLDCLAIM  CLM_FREQ REVOKED  MVR_PTS CLM_AMT  CAR_AGE  CLAIM_FLAG\n",
       "0   63581743         0 60.00         0 11.00  $67,349      No        $0    z_No      M            PhD   Professional        14     Private  $14,230   11  Minivan     yes   $4,461         2      No        3      $0    18.00           0\n",
       "1  132761049         0 43.00         0 11.00  $91,449      No  $257,252    z_No      M  z_High School  z_Blue Collar        22  Commercial  $14,940    1  Minivan     yes       $0         0      No        0      $0     1.00           0\n",
       "2  921317019         0 48.00         0 11.00  $52,881      No        $0    z_No      M      Bachelors        Manager        26     Private  $21,970    1      Van     yes       $0         0      No        2      $0    10.00           0\n",
       "3  727598473         0 35.00         1 10.00  $16,039      No  $124,191     Yes    z_F  z_High School       Clerical         5     Private   $4,010    4    z_SUV      no  $38,690         2      No        3      $0    10.00           0\n",
       "4  450221861         0 51.00         0 14.00      NaN      No  $306,251     Yes      M   <High School  z_Blue Collar        32     Private  $15,440    7  Minivan     yes       $0         0      No        0      $0     6.00           0"
      ]
     },
     "execution_count": 13,
     "metadata": {},
     "output_type": "execute_result"
    }
   ],
   "source": [
    "import numpy as np\n",
    "import pandas as pd\n",
    "import seaborn as sns\n",
    "import matplotlib.pyplot as plt\n",
    "from sklearn.model_selection import train_test_split\n",
    "import warnings\n",
    "warnings.filterwarnings('ignore')\n",
    "\n",
    "# Load the data\n",
    "df = pd.read_csv(path)\n",
    "df.head()\n"
   ]
  },
  {
   "cell_type": "code",
   "execution_count": 14,
   "metadata": {},
   "outputs": [
    {
     "name": "stdout",
     "output_type": "stream",
     "text": [
      "0    7556\n",
      "1    2746\n",
      "Name: CLAIM_FLAG, dtype: int64\n"
     ]
    }
   ],
   "source": [
    "# replace the $ symbol\n",
    "columns = ['INCOME','HOME_VAL','BLUEBOOK','OLDCLAIM','CLM_AMT']\n",
    "\n",
    "for col in columns:\n",
    "    df[col].replace({'\\$': '', ',': ''}, regex=True,inplace=True)\n",
    "\n",
    "# store independent variable\n",
    "X = df.drop(['CLAIM_FLAG'],axis=1)\n",
    "\n",
    "# store dependent variable\n",
    "y = df['CLAIM_FLAG']\n",
    "\n",
    "# Check the value counts\n",
    "count = y.value_counts()\n",
    "print(count)\n",
    "\n",
    "# spliting the dataset\n",
    "X_train,X_test,y_train,y_test=train_test_split(X,y ,test_size=0.3,random_state=6)\n",
    "\n"
   ]
  },
  {
   "cell_type": "markdown",
   "metadata": {},
   "source": [
    "##### Convert Datatypes"
   ]
  },
  {
   "cell_type": "code",
   "execution_count": 15,
   "metadata": {},
   "outputs": [
    {
     "name": "stdout",
     "output_type": "stream",
     "text": [
      "            total_missing  perc_missing\n",
      "ID                      0          0.00\n",
      "KIDSDRIV                0          0.00\n",
      "AGE                     4          0.06\n",
      "HOMEKIDS                0          0.00\n",
      "YOJ                   391          5.42\n",
      "INCOME                392          5.44\n",
      "PARENT1                 0          0.00\n",
      "HOME_VAL              399          5.53\n",
      "MSTATUS                 0          0.00\n",
      "GENDER                  0          0.00\n",
      "EDUCATION               0          0.00\n",
      "OCCUPATION            465          6.45\n",
      "TRAVTIME                0          0.00\n",
      "CAR_USE                 0          0.00\n",
      "BLUEBOOK                0          0.00\n",
      "TIF                     0          0.00\n",
      "CAR_TYPE                0          0.00\n",
      "RED_CAR                 0          0.00\n",
      "OLDCLAIM                0          0.00\n",
      "CLM_FREQ                0          0.00\n",
      "REVOKED                 0          0.00\n",
      "MVR_PTS                 0          0.00\n",
      "CLM_AMT                 0          0.00\n",
      "CAR_AGE               438          6.07\n",
      "            total_missing  perc_missing\n",
      "ID                      0          0.00\n",
      "KIDSDRIV                0          0.00\n",
      "AGE                     3          0.10\n",
      "HOMEKIDS                0          0.00\n",
      "YOJ                   157          5.08\n",
      "INCOME                178          5.76\n",
      "PARENT1                 0          0.00\n",
      "HOME_VAL              176          5.69\n",
      "MSTATUS                 0          0.00\n",
      "GENDER                  0          0.00\n",
      "EDUCATION               0          0.00\n",
      "OCCUPATION            200          6.47\n",
      "TRAVTIME                0          0.00\n",
      "CAR_USE                 0          0.00\n",
      "BLUEBOOK                0          0.00\n",
      "TIF                     0          0.00\n",
      "CAR_TYPE                0          0.00\n",
      "RED_CAR                 0          0.00\n",
      "OLDCLAIM                0          0.00\n",
      "CLM_FREQ                0          0.00\n",
      "REVOKED                 0          0.00\n",
      "MVR_PTS                 0          0.00\n",
      "CLM_AMT                 0          0.00\n",
      "CAR_AGE               201          6.50\n"
     ]
    }
   ],
   "source": [
    "# Convert object type to float on X_train\n",
    "X_train[['INCOME','HOME_VAL','BLUEBOOK','OLDCLAIM','CLM_AMT']]=X_train[['INCOME','HOME_VAL','BLUEBOOK','OLDCLAIM','CLM_AMT']].astype(float)\n",
    "\n",
    "# Convert object type to float on X_test\n",
    "X_test[['INCOME','HOME_VAL','BLUEBOOK','OLDCLAIM','CLM_AMT']]=X_test[['INCOME','HOME_VAL','BLUEBOOK','OLDCLAIM','CLM_AMT']].astype(float)\n",
    "\n",
    "# check missing values in X_train\n",
    "print(pd.DataFrame({'total_missing': X_train.isnull().sum(), 'perc_missing': (X_train.isnull().sum()/7211)*100}))\n",
    "\n",
    "# check missing values in X_test\n",
    "print(pd.DataFrame({'total_missing': X_test.isnull().sum(), 'perc_missing': (X_test.isnull().sum()/3091)*100}))"
   ]
  },
  {
   "cell_type": "markdown",
   "metadata": {},
   "source": [
    "##### Dealing with missing values"
   ]
  },
  {
   "cell_type": "code",
   "execution_count": 16,
   "metadata": {},
   "outputs": [
    {
     "name": "stdout",
     "output_type": "stream",
     "text": [
      "ID            0\n",
      "KIDSDRIV      0\n",
      "AGE           0\n",
      "HOMEKIDS      0\n",
      "YOJ           0\n",
      "INCOME        0\n",
      "PARENT1       0\n",
      "HOME_VAL      0\n",
      "MSTATUS       0\n",
      "GENDER        0\n",
      "EDUCATION     0\n",
      "OCCUPATION    0\n",
      "TRAVTIME      0\n",
      "CAR_USE       0\n",
      "BLUEBOOK      0\n",
      "TIF           0\n",
      "CAR_TYPE      0\n",
      "RED_CAR       0\n",
      "OLDCLAIM      0\n",
      "CLM_FREQ      0\n",
      "REVOKED       0\n",
      "MVR_PTS       0\n",
      "CLM_AMT       0\n",
      "CAR_AGE       0\n",
      "dtype: int64\n",
      "ID            0\n",
      "KIDSDRIV      0\n",
      "AGE           0\n",
      "HOMEKIDS      0\n",
      "YOJ           0\n",
      "INCOME        0\n",
      "PARENT1       0\n",
      "HOME_VAL      0\n",
      "MSTATUS       0\n",
      "GENDER        0\n",
      "EDUCATION     0\n",
      "OCCUPATION    0\n",
      "TRAVTIME      0\n",
      "CAR_USE       0\n",
      "BLUEBOOK      0\n",
      "TIF           0\n",
      "CAR_TYPE      0\n",
      "RED_CAR       0\n",
      "OLDCLAIM      0\n",
      "CLM_FREQ      0\n",
      "REVOKED       0\n",
      "MVR_PTS       0\n",
      "CLM_AMT       0\n",
      "CAR_AGE       0\n",
      "dtype: int64\n"
     ]
    }
   ],
   "source": [
    "\n",
    "# drop missing values\n",
    "X_train.dropna(subset=['YOJ','OCCUPATION'],inplace=True)\n",
    "X_test.dropna(subset=['YOJ','OCCUPATION'],inplace=True)\n",
    "\n",
    "\n",
    "y_train=y_train[X_train.index]\n",
    "y_test=y_test[X_test.index]\n",
    "\n",
    "\n",
    "\n",
    "# fill missing values with mean\n",
    "X_train['AGE'].fillna((X_train['AGE'].mean()), inplace=True)\n",
    "X_test['AGE'].fillna((X_train['AGE'].mean()), inplace=True)\n",
    "\n",
    "X_train['CAR_AGE'].fillna((X_train['CAR_AGE'].mean()), inplace=True)\n",
    "X_test['CAR_AGE'].fillna((X_train['CAR_AGE'].mean()), inplace=True)\n",
    "\n",
    "\n",
    "\n",
    "X_train['INCOME'].fillna((X_train['INCOME'].mean()), inplace=True)\n",
    "X_test['INCOME'].fillna((X_train['INCOME'].mean()), inplace=True)\n",
    "\n",
    "\n",
    "\n",
    "X_train['HOME_VAL'].fillna((X_train['HOME_VAL'].mean()), inplace=True)\n",
    "X_test['HOME_VAL'].fillna((X_train['HOME_VAL'].mean()), inplace=True)\n",
    "\n",
    "\n",
    "print(X_train.isnull().sum())\n",
    "print(X_test.isnull().sum())"
   ]
  },
  {
   "cell_type": "markdown",
   "metadata": {},
   "source": [
    "Obervation:\n",
    "\n",
    "- We can see that the features ['YOJ','OCCUPATION'] varies person to person. We can not deal with that type of missing value so we are going to remove the row from this column.\n",
    "- AGE,CAR_AGE,INCOME and HOME_VAL contains the numerical values."
   ]
  },
  {
   "cell_type": "markdown",
   "metadata": {},
   "source": [
    "##### Convert the categorical values to numeric value"
   ]
  },
  {
   "cell_type": "code",
   "execution_count": 17,
   "metadata": {},
   "outputs": [],
   "source": [
    "from sklearn.preprocessing import LabelEncoder\n",
    "# Columns are given\n",
    "columns = [\"PARENT1\",\"MSTATUS\",\"GENDER\",\"EDUCATION\",\"OCCUPATION\",\"CAR_USE\",\"CAR_TYPE\",\"RED_CAR\",\"REVOKED\"]\n",
    "\n",
    "# Code starts here\n",
    "for col in columns:\n",
    "    # Instantiate label encoder\n",
    "    le = LabelEncoder()\n",
    "    # fit and transform label encoder on X_train\n",
    "    X_train[col]=le.fit_transform(X_train[col].astype(str))\n",
    "    # transform label encoder on X_test\n",
    "    X_test[col]=le.transform(X_test[col].astype(str))"
   ]
  },
  {
   "cell_type": "markdown",
   "metadata": {},
   "source": [
    "##### Prediction check"
   ]
  },
  {
   "cell_type": "code",
   "execution_count": 18,
   "metadata": {},
   "outputs": [
    {
     "name": "stdout",
     "output_type": "stream",
     "text": [
      "0.7427113702623906\n"
     ]
    }
   ],
   "source": [
    "from sklearn.metrics import precision_score \n",
    "from sklearn.metrics import accuracy_score\n",
    "from sklearn.linear_model import LogisticRegression\n",
    "\n",
    "\n",
    "\n",
    "# code starts here \n",
    "\n",
    "# Instantiate logistic regression\n",
    "model = LogisticRegression(random_state = 6)\n",
    "\n",
    "# fit the model\n",
    "model.fit(X_train,y_train)\n",
    "\n",
    "# predict the result\n",
    "y_pred =model.predict(X_test)\n",
    "\n",
    "# calculate the f1 score\n",
    "score = accuracy_score(y_test, y_pred)\n",
    "print(score)\n",
    "\n"
   ]
  },
  {
   "cell_type": "markdown",
   "metadata": {},
   "source": [
    "##### Dealing with Imbalnced data"
   ]
  },
  {
   "cell_type": "markdown",
   "metadata": {},
   "source": [
    "In the previous task, we got an accuracy of 74%. One might think that it is a good score but even if the model always predicts 0, you will still get 74% accuracy(The target value distribution is 74% 0s and 26% 1s)\n",
    "\n",
    "So if you applied model on this dataset it will give us a bad prediction. To overcome we need to use the technic Oversampling or Undersampling technic. Oversampling in data analysis is techniques used to adjust the class distribution of an imbalanced dataset. In this task, you are going to apply the SMOTE to adjust the class distribution of the data set. While working with the learning model, it is important to scale the features to a range which is centered around zero so that the variance of the features are in the same range. If the feature’s variance is orders of magnitude more than the variance of other features, that particular feature might dominate other features in the dataset and our model will not train well which gives us bad model"
   ]
  },
  {
   "cell_type": "code",
   "execution_count": 19,
   "metadata": {},
   "outputs": [],
   "source": [
    "from sklearn.preprocessing import StandardScaler\n",
    "from imblearn.over_sampling import SMOTE\n",
    "\n",
    "# code starts here\n",
    "\n",
    "# Instantiate SMOTE \n",
    "smote = SMOTE(random_state=9)\n",
    "\n",
    "# fit smote on training set\n",
    "X_train, y_train = smote.fit_sample(X_train, y_train)\n",
    "\n",
    "# code ends here\n",
    "\n",
    "# Instantiate a standardScaler\n",
    "scaler = StandardScaler()\n",
    "\n",
    "# Fit on training set only.\n",
    "X_train = scaler.fit_transform(X_train)\n",
    "\n",
    "# Apply transform to the test set.\n",
    "X_test = scaler.transform(X_test)\n"
   ]
  },
  {
   "cell_type": "markdown",
   "metadata": {},
   "source": [
    "##### Prediction Check after dealing with imbalanced data"
   ]
  },
  {
   "cell_type": "code",
   "execution_count": 20,
   "metadata": {},
   "outputs": [
    {
     "name": "stdout",
     "output_type": "stream",
     "text": [
      "0.9897959183673469\n"
     ]
    }
   ],
   "source": [
    " \n",
    "\n",
    "# Instantiate logistic regression\n",
    "model = LogisticRegression()\n",
    "\n",
    "# fit the model\n",
    "model.fit(X_train,y_train)\n",
    "\n",
    "# predict the result\n",
    "y_pred =model.predict(X_test)\n",
    "\n",
    "# calculate the f1 score\n",
    "score = accuracy_score(y_test, y_pred)\n",
    "print(score)\n",
    "\n"
   ]
  },
  {
   "cell_type": "code",
   "execution_count": null,
   "metadata": {},
   "outputs": [],
   "source": []
  }
 ],
 "metadata": {
  "kernelspec": {
   "display_name": "Python 3",
   "language": "python",
   "name": "python3"
  },
  "language_info": {
   "codemirror_mode": {
    "name": "ipython",
    "version": 3
   },
   "file_extension": ".py",
   "mimetype": "text/x-python",
   "name": "python",
   "nbconvert_exporter": "python",
   "pygments_lexer": "ipython3",
   "version": "3.7.3"
  }
 },
 "nbformat": 4,
 "nbformat_minor": 2
}

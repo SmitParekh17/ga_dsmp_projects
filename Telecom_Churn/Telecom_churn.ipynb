{
 "cells": [
  {
   "cell_type": "markdown",
   "metadata": {},
   "source": [
    "### Telecom Churn Prediction"
   ]
  },
  {
   "cell_type": "markdown",
   "metadata": {},
   "source": [
    "Customer churn, also known as customer attrition, customer turnover, or customer defection, is the loss of clients or customers.\n",
    "\n",
    "Problem Statement:\n",
    "\n",
    "Using the method of Boosting, classify whether or not the customer will churn"
   ]
  },
  {
   "cell_type": "markdown",
   "metadata": {},
   "source": [
    "Why solve this project ?\n",
    "\n",
    "After completing this project, you will have a better understanding of how to build a boosting model. In this project, you will apply the following concepts.\n",
    "\n",
    "- Handling missing values in data\n",
    "- Applying AdaBoost\n",
    "- Applying XGBoost\n",
    "- Interpreting evaluation metrics"
   ]
  },
  {
   "cell_type": "code",
   "execution_count": 5,
   "metadata": {},
   "outputs": [],
   "source": [
    "import warnings\n",
    "warnings.filterwarnings('ignore')"
   ]
  },
  {
   "cell_type": "markdown",
   "metadata": {},
   "source": [
    "##### Load data"
   ]
  },
  {
   "cell_type": "code",
   "execution_count": 1,
   "metadata": {},
   "outputs": [],
   "source": [
    "path"
   ]
  },
  {
   "cell_type": "code",
   "execution_count": 6,
   "metadata": {},
   "outputs": [
    {
     "name": "stdout",
     "output_type": "stream",
     "text": [
      "   customerID  gender  SeniorCitizen Partner Dependents  tenure PhoneService  \\\n",
      "0  7590-VHVEG  Female              0     Yes         No       1           No   \n",
      "1  5575-GNVDE    Male              0      No         No      34          Yes   \n",
      "2  3668-QPYBK    Male              0      No         No       2          Yes   \n",
      "3  7795-CFOCW    Male              0      No         No      45           No   \n",
      "4  9237-HQITU  Female              0      No         No       2          Yes   \n",
      "\n",
      "      MultipleLines InternetService OnlineSecurity  ... DeviceProtection  \\\n",
      "0  No phone service             DSL             No  ...               No   \n",
      "1                No             DSL            Yes  ...              Yes   \n",
      "2                No             DSL            Yes  ...               No   \n",
      "3  No phone service             DSL            Yes  ...              Yes   \n",
      "4                No     Fiber optic             No  ...               No   \n",
      "\n",
      "  TechSupport StreamingTV StreamingMovies        Contract PaperlessBilling  \\\n",
      "0          No          No              No  Month-to-month              Yes   \n",
      "1          No          No              No        One year               No   \n",
      "2          No          No              No  Month-to-month              Yes   \n",
      "3         Yes          No              No        One year               No   \n",
      "4          No          No              No  Month-to-month              Yes   \n",
      "\n",
      "               PaymentMethod MonthlyCharges  TotalCharges Churn  \n",
      "0           Electronic check          29.85         29.85    No  \n",
      "1               Mailed check          56.95        1889.5    No  \n",
      "2               Mailed check          53.85        108.15   Yes  \n",
      "3  Bank transfer (automatic)          42.30       1840.75    No  \n",
      "4           Electronic check          70.70        151.65   Yes  \n",
      "\n",
      "[5 rows x 21 columns]\n"
     ]
    }
   ],
   "source": [
    "import pandas as pd\n",
    "from sklearn.model_selection import train_test_split\n",
    "#path - Path of file \n",
    "\n",
    "# Code starts here\n",
    "\n",
    "#Reading of file\n",
    "df = pd.read_csv(path)\n",
    "print(df.head())\n",
    "#Extracting features\n",
    "X = df.drop(['Churn','customerID'],1)\n",
    "\n",
    "#Extracting target class\n",
    "y = df['Churn']\n",
    "\n",
    "#Splitting data into train and test\n",
    "X_train,X_test,y_train,y_test = train_test_split(X,y,test_size = 0.3, random_state = 0)"
   ]
  },
  {
   "cell_type": "markdown",
   "metadata": {},
   "source": [
    "##### Clean Data"
   ]
  },
  {
   "cell_type": "code",
   "execution_count": 7,
   "metadata": {},
   "outputs": [
    {
     "name": "stdout",
     "output_type": "stream",
     "text": [
      "gender              0\n",
      "SeniorCitizen       0\n",
      "Partner             0\n",
      "Dependents          0\n",
      "tenure              0\n",
      "PhoneService        0\n",
      "MultipleLines       0\n",
      "InternetService     0\n",
      "OnlineSecurity      0\n",
      "OnlineBackup        0\n",
      "DeviceProtection    0\n",
      "TechSupport         0\n",
      "StreamingTV         0\n",
      "StreamingMovies     0\n",
      "Contract            0\n",
      "PaperlessBilling    0\n",
      "PaymentMethod       0\n",
      "MonthlyCharges      0\n",
      "TotalCharges        0\n",
      "dtype: int64\n"
     ]
    }
   ],
   "source": [
    "import numpy as np\n",
    "from sklearn.preprocessing import LabelEncoder\n",
    "\n",
    "# Code starts here\n",
    "\n",
    "#Replacing spaces with 'NaN' in train dataset\n",
    "X_train['TotalCharges'].replace(' ',np.NaN, inplace=True)\n",
    "\n",
    "#Replacing spaces with 'NaN' in test dataset\n",
    "X_test['TotalCharges'].replace(' ',np.NaN, inplace=True)\n",
    "\n",
    "#Converting the type of column from X_train to float\n",
    "X_train['TotalCharges'] = X_train['TotalCharges'].astype(float)\n",
    "\n",
    "#Converting the type of column from X_test to float\n",
    "X_test['TotalCharges'] = X_test['TotalCharges'].astype(float)\n",
    "\n",
    "#Filling missing values\n",
    "X_train['TotalCharges'].fillna(X_train['TotalCharges'].mean(),inplace=True)\n",
    "X_test['TotalCharges'].fillna(X_train['TotalCharges'].mean(), inplace=True)\n",
    "\n",
    "#Check value counts\n",
    "print(X_train.isnull().sum())\n",
    "\n",
    "cat_cols = X_train.select_dtypes(include='O').columns.tolist()\n",
    "\n",
    "#Label encoding train data\n",
    "for x in cat_cols:\n",
    "    le = LabelEncoder()\n",
    "    X_train[x] = le.fit_transform(X_train[x])\n",
    "\n",
    "#Label encoding test data    \n",
    "for x in cat_cols:\n",
    "    le = LabelEncoder()    \n",
    "    X_test[x] = le.fit_transform(X_test[x])\n",
    "\n",
    "#Encoding train data target    \n",
    "y_train = y_train.replace({'No':0, 'Yes':1})\n",
    "\n",
    "#Encoding test data target\n",
    "y_test = y_test.replace({'No':0, 'Yes':1})\n"
   ]
  },
  {
   "cell_type": "markdown",
   "metadata": {},
   "source": [
    "##### AdaBoost Implementation"
   ]
  },
  {
   "cell_type": "code",
   "execution_count": 8,
   "metadata": {},
   "outputs": [
    {
     "name": "stdout",
     "output_type": "stream",
     "text": [
      "Accuracy:  0.795551348793185\n",
      "Confusion matrix: \n",
      " [[1371  189]\n",
      " [ 243  310]]\n",
      "Classification report: \n",
      "               precision    recall  f1-score   support\n",
      "\n",
      "           0       0.85      0.88      0.86      1560\n",
      "           1       0.62      0.56      0.59       553\n",
      "\n",
      "    accuracy                           0.80      2113\n",
      "   macro avg       0.74      0.72      0.73      2113\n",
      "weighted avg       0.79      0.80      0.79      2113\n",
      "\n"
     ]
    }
   ],
   "source": [
    "from sklearn.ensemble import AdaBoostClassifier\n",
    "from sklearn.metrics import accuracy_score,classification_report,confusion_matrix\n",
    "\n",
    "# Code starts here\n",
    "\n",
    "# Initialising AdaBoostClassifier model\n",
    "ada_model = AdaBoostClassifier(random_state=0)\n",
    "\n",
    "#Fitting the model on train data\n",
    "ada_model.fit(X_train,y_train)\n",
    "\n",
    "#Making prediction on test data\n",
    "y_pred = ada_model.predict(X_test)\n",
    "\n",
    "#Finding the accuracy score\n",
    "ada_score = accuracy_score(y_test,y_pred)\n",
    "print(\"Accuracy: \",ada_score)\n",
    "\n",
    "#Finding the confusion matrix\n",
    "ada_cm=confusion_matrix(y_test,y_pred)\n",
    "print('Confusion matrix: \\n', ada_cm)\n",
    "\n",
    "#Finding the classification report\n",
    "ada_cr=classification_report(y_test,y_pred)\n",
    "print('Classification report: \\n', ada_cr)"
   ]
  },
  {
   "cell_type": "markdown",
   "metadata": {},
   "source": [
    "##### XGBoost Implementation"
   ]
  },
  {
   "cell_type": "code",
   "execution_count": 10,
   "metadata": {},
   "outputs": [
    {
     "name": "stdout",
     "output_type": "stream",
     "text": [
      "Accuracy:  0.79649787032655\n",
      "Confusion matrix: \n",
      " [[1388  172]\n",
      " [ 258  295]]\n",
      "Classification report: \n",
      "               precision    recall  f1-score   support\n",
      "\n",
      "           0       0.84      0.89      0.87      1560\n",
      "           1       0.63      0.53      0.58       553\n",
      "\n",
      "    accuracy                           0.80      2113\n",
      "   macro avg       0.74      0.71      0.72      2113\n",
      "weighted avg       0.79      0.80      0.79      2113\n",
      "\n",
      "\n",
      "Applying GridSearcCv\n",
      "\n",
      "Accuracy:  0.8017037387600567\n",
      "Confusion matrix: \n",
      " [[1394  166]\n",
      " [ 253  300]]\n",
      "Classification report: \n",
      "               precision    recall  f1-score   support\n",
      "\n",
      "           0       0.85      0.89      0.87      1560\n",
      "           1       0.64      0.54      0.59       553\n",
      "\n",
      "    accuracy                           0.80      2113\n",
      "   macro avg       0.75      0.72      0.73      2113\n",
      "weighted avg       0.79      0.80      0.80      2113\n",
      "\n"
     ]
    }
   ],
   "source": [
    "from xgboost import XGBClassifier\n",
    "from sklearn.model_selection import GridSearchCV\n",
    "\n",
    "#Parameter list\n",
    "parameters={'learning_rate':[0.1,0.15,0.2,0.25,0.3],\n",
    "            'max_depth':range(1,3)}\n",
    "\n",
    "# Code starts here\n",
    "\n",
    "#Initializing the model\n",
    "xgb_model = XGBClassifier(random_state=0)\n",
    "\n",
    "#Fitting the model on train data\n",
    "xgb_model.fit(X_train,y_train)\n",
    "\n",
    "#Making prediction on test data\n",
    "y_pred = xgb_model.predict(X_test)\n",
    "\n",
    "#Finding the accuracy score\n",
    "xgb_score = accuracy_score(y_test,y_pred)\n",
    "print(\"Accuracy: \",xgb_score)\n",
    "\n",
    "#Finding the confusion matrix\n",
    "xgb_cm=confusion_matrix(y_test,y_pred)\n",
    "print('Confusion matrix: \\n', xgb_cm)\n",
    "\n",
    "#Finding the classification report\n",
    "xgb_cr=classification_report(y_test,y_pred)\n",
    "print('Classification report: \\n', xgb_cr)\n",
    "\n",
    "\n",
    "### GridSearch CV\n",
    "print()\n",
    "print(\"Applying GridSearcCv\")\n",
    "print()\n",
    "#Initialsing Grid Search\n",
    "clf = GridSearchCV(xgb_model, parameters)\n",
    "\n",
    "#Fitting the model on train data\n",
    "clf.fit(X_train,y_train)\n",
    "\n",
    "#Making prediction on test data\n",
    "y_pred = clf.predict(X_test)\n",
    "\n",
    "#Finding the accuracy score\n",
    "clf_score = accuracy_score(y_test,y_pred)\n",
    "print(\"Accuracy: \",clf_score)\n",
    "\n",
    "#Finding the confusion matrix\n",
    "clf_cm=confusion_matrix(y_test,y_pred)\n",
    "print('Confusion matrix: \\n', clf_cm)\n",
    "\n",
    "#Finding the classification report\n",
    "clf_cr=classification_report(y_test,y_pred)\n",
    "print('Classification report: \\n', clf_cr)\n",
    "\n",
    "#Code ends here"
   ]
  },
  {
   "cell_type": "code",
   "execution_count": null,
   "metadata": {},
   "outputs": [],
   "source": []
  }
 ],
 "metadata": {
  "kernelspec": {
   "display_name": "Python 3",
   "language": "python",
   "name": "python3"
  },
  "language_info": {
   "codemirror_mode": {
    "name": "ipython",
    "version": 3
   },
   "file_extension": ".py",
   "mimetype": "text/x-python",
   "name": "python",
   "nbconvert_exporter": "python",
   "pygments_lexer": "ipython3",
   "version": "3.7.3"
  }
 },
 "nbformat": 4,
 "nbformat_minor": 2
}

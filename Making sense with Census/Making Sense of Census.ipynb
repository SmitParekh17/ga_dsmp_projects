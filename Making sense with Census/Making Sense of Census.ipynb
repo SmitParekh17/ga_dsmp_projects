{
 "cells": [
  {
   "cell_type": "markdown",
   "metadata": {},
   "source": [
    "### Project: Make Sense of Census"
   ]
  },
  {
   "cell_type": "markdown",
   "metadata": {},
   "source": [
    "Problem Statement:\n",
    "-> Hello!\n",
    "\n",
    "You have been hired by 'CACT'(Census Analysis and Collection Team) to help with your numpy programming skills. Your major work for today involves census record management and data analysis."
   ]
  },
  {
   "cell_type": "markdown",
   "metadata": {},
   "source": [
    "Why solve this project\n",
    "-> After completing this project, you will have a better grip on working with numpy. In this project, you will apply the following concepts:\n",
    "\n",
    "- Array Appending\n",
    "- Array Slicing\n",
    "- Array Filtering\n",
    "- Array Aggregation"
   ]
  },
  {
   "cell_type": "code",
   "execution_count": null,
   "metadata": {},
   "outputs": [],
   "source": [
    "path"
   ]
  },
  {
   "cell_type": "markdown",
   "metadata": {},
   "source": [
    "##### 1) Data Reading"
   ]
  },
  {
   "cell_type": "markdown",
   "metadata": {},
   "source": [
    "In this first task, we will load the data to a numpy array and add a new record to it."
   ]
  },
  {
   "cell_type": "code",
   "execution_count": 10,
   "metadata": {},
   "outputs": [
    {
     "name": "stdout",
     "output_type": "stream",
     "text": [
      "(1000, 8)\n",
      "(1001, 8)\n"
     ]
    }
   ],
   "source": [
    "# Importing header files\n",
    "import numpy as np\n",
    "\n",
    "#New record\n",
    "new_record=[[50,  9,  4,  1,  0,  0, 40,  0]]\n",
    "\n",
    "#Code starts here\n",
    "\n",
    "#Loading data file and saving it into a new numpy array \n",
    "data = np.genfromtxt(path, delimiter=\",\", skip_header=1)\n",
    "\n",
    "print(data.shape)\n",
    "\n",
    "#Concatenating the new record to the existing numpy array\n",
    "census=np.concatenate((data, new_record),axis = 0)\n",
    "\n",
    "print(census.shape)\n",
    "\n",
    "#Code ends here"
   ]
  },
  {
   "cell_type": "markdown",
   "metadata": {},
   "source": [
    "##### 2) Young Country? Old Country?"
   ]
  },
  {
   "cell_type": "markdown",
   "metadata": {},
   "source": [
    "We often associate the potential of a country based on the age distribution of the people residing there. We too want to do a simple analysis of the age distribution"
   ]
  },
  {
   "cell_type": "code",
   "execution_count": 4,
   "metadata": {},
   "outputs": [
    {
     "name": "stdout",
     "output_type": "stream",
     "text": [
      "Max Age=  90.0\n",
      "[39. 50. 38. ... 40. 39. 50.]\n",
      "Min Age=  17.0\n",
      "Age Average=  38.06293706293706\n",
      "Age Standard Deviation=  13.341478176165857\n"
     ]
    }
   ],
   "source": [
    "#Code starts here\n",
    "\n",
    "#Subsetting the array to include only 'Age' column\n",
    "age=census[:,0]\n",
    "#Finding the max value of age\n",
    "max_age=age.max()\n",
    "print(\"Max Age= \",max_age)\n",
    "print(age)\n",
    "#Find the min value of age\n",
    "min_age=age.min()\n",
    "print(\"Min Age= \",min_age)\n",
    "\n",
    "#Find the mean of age\n",
    "age_mean=age.mean()\n",
    "print(\"Age Average= \", age_mean)\n",
    "\n",
    "#Find the standard deviation of age\n",
    "age_std=age.std()\n",
    "print(\"Age Standard Deviation= \",age_std)\n",
    "\n",
    "\n",
    "#Code ends here"
   ]
  },
  {
   "cell_type": "markdown",
   "metadata": {},
   "source": [
    "##### 3) Minority Report"
   ]
  },
  {
   "cell_type": "markdown",
   "metadata": {},
   "source": [
    "The constitution of the country tries it's best to ensure that people of all races are able to live harmoniously. Let's check the country's race distribution to identify the minorities so that goverment can help them."
   ]
  },
  {
   "cell_type": "code",
   "execution_count": 5,
   "metadata": {},
   "outputs": [
    {
     "name": "stdout",
     "output_type": "stream",
     "text": [
      "Race_0:  10\n",
      "Race_1:  27\n",
      "Race_2:  110\n",
      "Race_3:  6\n",
      "Race_4:  848\n"
     ]
    }
   ],
   "source": [
    "#Code starts here\n",
    "\n",
    "#Creating new subsets based on 'Age'\n",
    "race_0=census[census[:,2]==0]\n",
    "race_1=census[census[:,2]==1]\n",
    "race_2=census[census[:,2]==2]\n",
    "race_3=census[census[:,2]==3]\n",
    "race_4=census[census[:,2]==4]\n",
    "\n",
    "\n",
    "#Finding the length of the above created subsets\n",
    "len_0=len(race_0)\n",
    "len_1=len(race_1)\n",
    "len_2=len(race_2)\n",
    "len_3=len(race_3)\n",
    "len_4=len(race_4)\n",
    "\n",
    "#Printing the length of the above created subsets\n",
    "print('Race_0: ', len_0)\n",
    "print('Race_1: ', len_1)\n",
    "print('Race_2: ', len_2)\n",
    "print('Race_3: ', len_3)\n",
    "print('Race_4: ', len_4)\n",
    "\n",
    "#Storing the different race lengths with appropriate indexes\n",
    "race_list=[len_0, len_1,len_2, len_3, len_4]\n",
    "\n",
    "#Storing the race with minimum length into a variable \n",
    "minority_race=race_list.index(min(race_list))\n",
    "\n",
    "#Code ends here"
   ]
  },
  {
   "cell_type": "markdown",
   "metadata": {},
   "source": [
    "##### 4) Senior Welfare"
   ]
  },
  {
   "cell_type": "markdown",
   "metadata": {},
   "source": [
    "As per the new govt. policy, all citizens above age 60 should not be made to work more than 25 hours per week. Let us look at the data and see if that policy is followed."
   ]
  },
  {
   "cell_type": "code",
   "execution_count": 6,
   "metadata": {},
   "outputs": [
    {
     "name": "stdout",
     "output_type": "stream",
     "text": [
      "31.42622950819672\n"
     ]
    }
   ],
   "source": [
    "#Code starts here\n",
    "\n",
    "#Subsetting the array based on the age \n",
    "senior_citizens=census[census[:,0]>60]\n",
    "\n",
    "#Calculating the sum of all the values of array\n",
    "working_hours_sum=senior_citizens.sum(axis=0)[6]\n",
    "\n",
    "#Finding the length of the array\n",
    "senior_citizens_len=len(senior_citizens)\n",
    "\n",
    "#Finding the average working hours\n",
    "avg_working_hours=working_hours_sum/senior_citizens_len\n",
    "\n",
    "#Printing the average working hours\n",
    "print((avg_working_hours))\n",
    "\n",
    "#Code ends here"
   ]
  },
  {
   "cell_type": "markdown",
   "metadata": {},
   "source": [
    "##### 5) Education Matters!"
   ]
  },
  {
   "cell_type": "markdown",
   "metadata": {},
   "source": [
    "Our parents have repeatedly told us that we need to study well in order to get a good(read: higher paying) job. Let's see whether the higher educated people have a better pay in general."
   ]
  },
  {
   "cell_type": "code",
   "execution_count": 7,
   "metadata": {},
   "outputs": [
    {
     "name": "stdout",
     "output_type": "stream",
     "text": [
      "0.42813455657492355\n",
      "0.13649851632047477\n"
     ]
    }
   ],
   "source": [
    "#Code starts here\n",
    "\n",
    "#Creating an array based on 'education' column\n",
    "high=census[census[:,1]>10]\n",
    "\n",
    "#Finding the average pay\n",
    "avg_pay_high=high[:,7].mean()\n",
    "\n",
    "#Printing the average pay\n",
    "print(avg_pay_high)\n",
    "\n",
    "#Creating an array based on 'education' column\n",
    "low=census[census[:,1]<=10]\n",
    "\n",
    "#Finding the average pay\n",
    "avg_pay_low=low[:,7].mean()\n",
    "\n",
    "#Printing the average pay\n",
    "print(avg_pay_low)\n",
    "#Code ends here"
   ]
  },
  {
   "cell_type": "code",
   "execution_count": null,
   "metadata": {},
   "outputs": [],
   "source": []
  }
 ],
 "metadata": {
  "kernelspec": {
   "display_name": "Python 3",
   "language": "python",
   "name": "python3"
  },
  "language_info": {
   "codemirror_mode": {
    "name": "ipython",
    "version": 3
   },
   "file_extension": ".py",
   "mimetype": "text/x-python",
   "name": "python",
   "nbconvert_exporter": "python",
   "pygments_lexer": "ipython3",
   "version": "3.7.3"
  }
 },
 "nbformat": 4,
 "nbformat_minor": 2
}

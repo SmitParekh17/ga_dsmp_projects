{
 "cells": [
  {
   "cell_type": "markdown",
   "metadata": {},
   "source": [
    "### Project : Loan Approval Analysis"
   ]
  },
  {
   "cell_type": "markdown",
   "metadata": {},
   "source": [
    "Problem Statement:\n",
    "\n",
    "-> Dream Housing Finance Inc. specializes in home loans across different market segments - rural, urban and semi-urban. Thier loan eligibility process is based on customer details provided while filling an online application form. To create a targeted marketing campaign for different segments, they have asked for a comprehensive analysis of the data collected so far."
   ]
  },
  {
   "cell_type": "markdown",
   "metadata": {},
   "source": [
    "Why solve this project ?\n",
    "-> After completing this project, you will have better grip on working with pandas. In this project you will apply following concepts.\n",
    "\n",
    "- Dataframe slicing\n",
    "- Dataframe aggregation\n",
    "- Pivot table operations"
   ]
  },
  {
   "cell_type": "markdown",
   "metadata": {},
   "source": [
    "##### 1.) Load the data"
   ]
  },
  {
   "cell_type": "markdown",
   "metadata": {},
   "source": [
    "\n",
    "Let's check which variable is categorical and which one is numerical so that you will get a basic idea about the features of the bank dataset."
   ]
  },
  {
   "cell_type": "code",
   "execution_count": 1,
   "metadata": {},
   "outputs": [],
   "source": [
    "path"
   ]
  },
  {
   "cell_type": "code",
   "execution_count": 3,
   "metadata": {},
   "outputs": [
    {
     "name": "stdout",
     "output_type": "stream",
     "text": [
      "Categorical variables :  Index(['Loan_ID', 'Gender', 'Married', 'Dependents', 'Education',\n",
      "       'Self_Employed', 'Property_Area', 'Loan_Status'],\n",
      "      dtype='object')\n",
      "Numerical Variables :  Index(['ApplicantIncome', 'CoapplicantIncome', 'LoanAmount',\n",
      "       'Loan_Amount_Term', 'Credit_History'],\n",
      "      dtype='object')\n"
     ]
    }
   ],
   "source": [
    "# Import packages\n",
    "import numpy as np\n",
    "import pandas as pd\n",
    "from scipy.stats import mode \n",
    "\n",
    "\n",
    "\n",
    "# code starts here\n",
    "#Load Dataset\n",
    "\n",
    "bank = pd.read_csv(path)\n",
    "    \n",
    "# Display categorical variable\n",
    "\n",
    "\n",
    "categorical_var=bank.select_dtypes(include='object')\n",
    "\n",
    "print(\"Categorical variables : \",categorical_var.columns)\n",
    "\n",
    "\n",
    "    \n",
    "#Code for numerical variable\n",
    "\n",
    "numerical_var=bank.select_dtypes(include='number')\n",
    "\n",
    "print(\"Numerical Variables : \",numerical_var.columns)\n",
    "\n",
    "\n",
    "\n",
    "# code ends here"
   ]
  },
  {
   "cell_type": "markdown",
   "metadata": {},
   "source": [
    "##### 2) Something is Missing!"
   ]
  },
  {
   "cell_type": "markdown",
   "metadata": {},
   "source": [
    "Sometimes customers forget to fill in all the details or they don't want to share other details. Because of that, some of the fields in the dataset will have missing values. Now you have to check which columns have missing values and also check the count of missing values each column has. If you get the columns that have missing values, try to fill them."
   ]
  },
  {
   "cell_type": "code",
   "execution_count": 4,
   "metadata": {},
   "outputs": [
    {
     "name": "stdout",
     "output_type": "stream",
     "text": [
      "Gender               13\n",
      "Married               3\n",
      "Dependents           15\n",
      "Education             0\n",
      "Self_Employed        32\n",
      "ApplicantIncome       0\n",
      "CoapplicantIncome     0\n",
      "LoanAmount           22\n",
      "Loan_Amount_Term     14\n",
      "Credit_History       50\n",
      "Property_Area         0\n",
      "Loan_Status           0\n",
      "dtype: int64\n",
      "Gender               0\n",
      "Married              0\n",
      "Dependents           0\n",
      "Education            0\n",
      "Self_Employed        0\n",
      "ApplicantIncome      0\n",
      "CoapplicantIncome    0\n",
      "LoanAmount           0\n",
      "Loan_Amount_Term     0\n",
      "Credit_History       0\n",
      "Property_Area        0\n",
      "Loan_Status          0\n",
      "dtype: int64\n"
     ]
    }
   ],
   "source": [
    "# code starts here\n",
    "\n",
    "# load the dataset and drop the Loan_ID\n",
    "banks= bank.drop(columns='Loan_ID')\n",
    "\n",
    "\n",
    "# check  all the missing values filled.\n",
    "\n",
    "print(banks.isnull().sum())\n",
    "\n",
    "# apply mode \n",
    "\n",
    "bank_mode = banks.mode().iloc[0]\n",
    "\n",
    "# Fill the missing values with \n",
    "\n",
    "banks.fillna(bank_mode, inplace=True)\n",
    "\n",
    "# check again all the missing values filled.\n",
    "\n",
    "print(banks.isnull().sum())\n",
    "\n",
    "#code ends here"
   ]
  },
  {
   "cell_type": "markdown",
   "metadata": {},
   "source": [
    "##### 3) Loan Amount vs Gender"
   ]
  },
  {
   "cell_type": "markdown",
   "metadata": {},
   "source": [
    "Now let's check the loan amount of an average person based on 'Gender', 'Married', 'Self_Employed'. This will give a basic idea of the average loan amount of a person."
   ]
  },
  {
   "cell_type": "code",
   "execution_count": 5,
   "metadata": {},
   "outputs": [
    {
     "name": "stdout",
     "output_type": "stream",
     "text": [
      "                              LoanAmount\n",
      "Gender Married Self_Employed            \n",
      "Female No      No             114.768116\n",
      "               Yes            125.272727\n",
      "       Yes     No             133.714286\n",
      "               Yes            282.250000\n",
      "Male   No      No             129.508621\n",
      "               Yes            180.588235\n",
      "       Yes     No             152.608150\n",
      "               Yes            167.420000\n"
     ]
    }
   ],
   "source": [
    "# code starts here\n",
    "\n",
    "# check the avg_loan_amount\n",
    "avg_loan_amount = banks.pivot_table(values=[\"LoanAmount\"], index=[\"Gender\",\"Married\",\"Self_Employed\"], aggfunc=np.mean)\n",
    "\n",
    "\n",
    "print (avg_loan_amount)\n",
    "# code ends here"
   ]
  },
  {
   "cell_type": "markdown",
   "metadata": {},
   "source": [
    "##### 4) Loan Approval vs Employment"
   ]
  },
  {
   "cell_type": "markdown",
   "metadata": {},
   "source": [
    "Now let's check the percentage of loan approved based on a person's employment type."
   ]
  },
  {
   "cell_type": "code",
   "execution_count": 6,
   "metadata": {},
   "outputs": [
    {
     "name": "stdout",
     "output_type": "stream",
     "text": [
      "Loan_Status    56\n",
      "dtype: int64\n",
      "Loan_Status    366\n",
      "dtype: int64\n",
      "9.120521172638437\n",
      "59.60912052117264\n"
     ]
    }
   ],
   "source": [
    "# code starts here\n",
    "\n",
    "# code for loan aprroved for self employed\n",
    "loan_approved_se = banks.loc[(banks[\"Self_Employed\"]==\"Yes\")  & (banks[\"Loan_Status\"]==\"Y\"), [\"Loan_Status\"]].count()\n",
    "print(loan_approved_se)\n",
    "\n",
    "# code for loan approved for non self employed\n",
    "loan_approved_nse = banks.loc[(banks[\"Self_Employed\"]==\"No\")  & (banks[\"Loan_Status\"]==\"Y\"), [\"Loan_Status\"]].count()\n",
    "print(loan_approved_nse)\n",
    "\n",
    "# percentage of loan approved for self employed\n",
    "percentage_se = (loan_approved_se * 100 / 614)\n",
    "percentage_se=percentage_se[0]\n",
    "# print percentage of loan approved for self employed\n",
    "print(percentage_se)\n",
    "\n",
    "#percentage of loan for non self employed\n",
    "percentage_nse = (loan_approved_nse * 100 / 614)\n",
    "percentage_nse=percentage_nse[0]\n",
    "#print percentage of loan for non self employed\n",
    "print (percentage_nse)\n",
    "\n",
    "# code ends here"
   ]
  },
  {
   "cell_type": "markdown",
   "metadata": {},
   "source": [
    "##### 5) Transform the loan tenure from months to years"
   ]
  },
  {
   "cell_type": "markdown",
   "metadata": {},
   "source": [
    "A government audit is happening real soon! So the company wants to find out those applicants with long loan amount term"
   ]
  },
  {
   "cell_type": "code",
   "execution_count": 7,
   "metadata": {},
   "outputs": [
    {
     "name": "stdout",
     "output_type": "stream",
     "text": [
      "554\n"
     ]
    }
   ],
   "source": [
    "# code starts here\n",
    "\n",
    "# loan amount term \n",
    "\n",
    "loan_term = banks['Loan_Amount_Term'].apply(lambda x: int(x)/12 )\n",
    "\n",
    "\n",
    "big_loan_term=len(loan_term[loan_term>=25])\n",
    "\n",
    "print(big_loan_term)\n",
    "\n",
    "# code ends here"
   ]
  },
  {
   "cell_type": "markdown",
   "metadata": {},
   "source": [
    "##### 6) Income/ Credit History vs Loan Amount"
   ]
  },
  {
   "cell_type": "markdown",
   "metadata": {},
   "source": [
    "Now let's check the average income of an applicant and the average loan given to a person based on their income."
   ]
  },
  {
   "cell_type": "code",
   "execution_count": 8,
   "metadata": {},
   "outputs": [
    {
     "name": "stdout",
     "output_type": "stream",
     "text": [
      "            ApplicantIncome Credit_History\n",
      "                       mean           mean\n",
      "Loan_Status                               \n",
      "N               5446.078125       0.572917\n",
      "Y               5384.068720       0.983412\n"
     ]
    }
   ],
   "source": [
    "# code starts here\n",
    "\n",
    "columns_to_show = ['ApplicantIncome', 'Credit_History']\n",
    " \n",
    "loan_groupby=banks.groupby(['Loan_Status'])\n",
    "\n",
    "loan_groupby=loan_groupby[columns_to_show]\n",
    "\n",
    "# Check the mean value \n",
    "mean_values=loan_groupby.agg([np.mean])\n",
    "\n",
    "print(mean_values)\n",
    "\n",
    "# code ends here"
   ]
  },
  {
   "cell_type": "code",
   "execution_count": null,
   "metadata": {},
   "outputs": [],
   "source": []
  },
  {
   "cell_type": "code",
   "execution_count": null,
   "metadata": {},
   "outputs": [],
   "source": []
  }
 ],
 "metadata": {
  "kernelspec": {
   "display_name": "Python 3",
   "language": "python",
   "name": "python3"
  },
  "language_info": {
   "codemirror_mode": {
    "name": "ipython",
    "version": 3
   },
   "file_extension": ".py",
   "mimetype": "text/x-python",
   "name": "python",
   "nbconvert_exporter": "python",
   "pygments_lexer": "ipython3",
   "version": "3.7.3"
  }
 },
 "nbformat": 4,
 "nbformat_minor": 2
}

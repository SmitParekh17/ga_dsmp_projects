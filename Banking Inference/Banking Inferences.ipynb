{
 "cells": [
  {
   "cell_type": "markdown",
   "metadata": {},
   "source": [
    "### Banking Inferences"
   ]
  },
  {
   "cell_type": "markdown",
   "metadata": {},
   "source": [
    "Problem Statement:\n",
    "\n",
    "-> Bank Of New York wants to expand its branches and for that it has certain hypothesis and statements it wants to verify. Using the inferential statistics method you just learned, help the bank."
   ]
  },
  {
   "cell_type": "markdown",
   "metadata": {},
   "source": [
    "Why solve this project ?\n",
    "\n",
    "-> After completing this project, you will have a better understanding of how to use inferential statistics. In this project, you will apply the following concepts:\n",
    "\n",
    "- Confidence Interval\n",
    "\n",
    "- Central Limit Theorem\n",
    "\n",
    "- Hypothesis Testing\n",
    "\n",
    "- Chi Square Test"
   ]
  },
  {
   "cell_type": "markdown",
   "metadata": {},
   "source": [
    "##### Confidence Interval"
   ]
  },
  {
   "cell_type": "markdown",
   "metadata": {},
   "source": [
    "- A Confidence interval is a range of values that likely would contain an unknown population parameter.\n",
    "- Margin of error, also called confidence interval, tells you how much you can expect your survey results to reflect the views from the overall population."
   ]
  },
  {
   "cell_type": "code",
   "execution_count": 3,
   "metadata": {},
   "outputs": [],
   "source": [
    "path"
   ]
  },
  {
   "cell_type": "code",
   "execution_count": 7,
   "metadata": {},
   "outputs": [
    {
     "name": "stdout",
     "output_type": "stream",
     "text": [
      "  customer.id credit.policy             purpose int.rate  installment  \\\n",
      "0       LA001           Yes  debt_consolidation   11.89%       829.10   \n",
      "1       LA002           Yes         credit_card   10.71%       228.22   \n",
      "2       LA003           Yes  debt_consolidation   13.57%       366.86   \n",
      "3       LA004           Yes  debt_consolidation   10.08%       162.34   \n",
      "4       LA005           Yes         credit_card   14.26%       102.92   \n",
      "\n",
      "   log.annual.inc    dti  fico  days.with.cr.line  revol.bal  revol.util  \\\n",
      "0       11.350407  19.48   737        5639.958333      28854        52.1   \n",
      "1       11.082143  14.29   707        2760.000000      33623        76.7   \n",
      "2       10.373491  11.63   682        4710.000000       3511        25.6   \n",
      "3       11.350407   8.10   712        2699.958333      33667        73.2   \n",
      "4       11.299732  14.97   667        4066.000000       4740        39.5   \n",
      "\n",
      "   pub.rec inq.last.6mths delinq.2yrs paid.back.loan  \n",
      "0        0    Less than 5          No            Yes  \n",
      "1        0    Less than 5          No            Yes  \n",
      "2        0    Less than 5          No            Yes  \n",
      "3        0    Less than 5          No            Yes  \n",
      "4        0    Less than 5         Yes            Yes  \n",
      "\n",
      "Confidence interval:\n",
      "(309.97359170012027, 325.24833829987966)\n",
      "True mean: 319.08941323867265\n"
     ]
    }
   ],
   "source": [
    "import pandas as pd\n",
    "import scipy.stats as stats\n",
    "import math\n",
    "import numpy as np\n",
    "import warnings\n",
    "\n",
    "warnings.filterwarnings('ignore')\n",
    "#Sample_Size\n",
    "sample_size=2000\n",
    "\n",
    "#Z_Critical Score\n",
    "z_critical = stats.norm.ppf(q = 0.95)  \n",
    "\n",
    "# path        [File location variable]\n",
    "\n",
    "#Code starts here\n",
    "\n",
    "#Reading file\n",
    "data=pd.read_csv(path)\n",
    "print(data.head())\n",
    "#Sampling the dataframe\n",
    "data_sample = data.sample(n=sample_size, random_state=0)\n",
    "\n",
    "\n",
    "#Finding the mean of the sample\n",
    "sample_mean = data_sample['installment'].mean()\n",
    "\n",
    "#Finding the standard deviation of the sample\n",
    "sample_std = data_sample['installment'].std()\n",
    "\n",
    "#Finding the margin of error\n",
    "margin_of_error = z_critical * (sample_std/math.sqrt(sample_size))\n",
    "\n",
    "#Finding the confidence interval\n",
    "confidence_interval = (sample_mean - margin_of_error,\n",
    "                       sample_mean + margin_of_error)  \n",
    "print()\n",
    "print(\"Confidence interval:\")\n",
    "print(confidence_interval)\n",
    "\n",
    "#Finding the true mean\n",
    "true_mean=data['installment'].mean()\n",
    "\n",
    "print((\"True mean: {}\".format(true_mean)))\n",
    "\n",
    "#Code ends here"
   ]
  },
  {
   "cell_type": "markdown",
   "metadata": {},
   "source": [
    "##### CLT : Central Limit Theorem"
   ]
  },
  {
   "cell_type": "markdown",
   "metadata": {},
   "source": [
    "The Central Limit Theorem states that the sampling distribution of the sample means approaches a normal distribution as the sample size gets larger — no matter what the shape of the population distribution.\n",
    "\n",
    "Let's now find out if Central Limit Theorem holds for installment column"
   ]
  },
  {
   "cell_type": "code",
   "execution_count": 8,
   "metadata": {},
   "outputs": [
    {
     "data": {
      "image/png": "[encoded data removed]",
      "text/plain": [
       "<Figure size 720x1440 with 3 Axes>"
      ]
     },
     "metadata": {
      "needs_background": "light"
     },
     "output_type": "display_data"
    }
   ],
   "source": [
    "import matplotlib.pyplot as plt\n",
    "import numpy as np\n",
    "\n",
    "#Different sample sizes to take\n",
    "sample_size=np.array([20,50,100])\n",
    "\n",
    "#Code starts here\n",
    "\n",
    "#Creating different subplots\n",
    "fig,axes=plt.subplots(3,1, figsize=(10,20))\n",
    "\n",
    "#Running loop to iterate through rows\n",
    "for i in range(len(sample_size)):\n",
    "    \n",
    "    #Initialising a list\n",
    "    m=[]\n",
    "    \n",
    "    #Loop to implement the no. of samples\n",
    "    for j in range(1000):\n",
    "        \n",
    "        #Finding mean of a random sample\n",
    "        mean=data['installment'].sample(sample_size[i]).mean()\n",
    "        \n",
    "        #Appending the mean to the list\n",
    "        m.append(mean)\n",
    "        \n",
    "        \n",
    "    #Converting the list to series\n",
    "    mean_series=pd.Series(m)   \n",
    "\n",
    "    #Plotting the histogram for the series\n",
    "    axes[i].hist(mean_series, normed=True)\n",
    "\n",
    "    \n",
    "\n",
    "#Displaying the plot\n",
    "plt.show()\n",
    "\n",
    "\n",
    "#Code ends here"
   ]
  },
  {
   "cell_type": "markdown",
   "metadata": {},
   "source": [
    "##### Small Business Interests"
   ]
  },
  {
   "cell_type": "markdown",
   "metadata": {},
   "source": [
    "The bank manager believes that people with purpose as 'small_business' have been given int.rate more due to the risk assosciated. Let's do a hypothesis testing(one-sided) on that belief"
   ]
  },
  {
   "cell_type": "code",
   "execution_count": 9,
   "metadata": {},
   "outputs": [
    {
     "name": "stdout",
     "output_type": "stream",
     "text": [
      "Z-statistic is :12.321276240201554\n",
      "P-value is :3.479213190639132e-35\n"
     ]
    }
   ],
   "source": [
    "#Importing header files\n",
    "\n",
    "from statsmodels.stats.weightstats import ztest\n",
    "\n",
    "#Code starts here\n",
    "\n",
    "# Removing the last character from the values in column\n",
    "data['int.rate'] = data['int.rate'].map(lambda x: str(x)[:-1])\n",
    "\n",
    "#Dividing the column values by 100\n",
    "data['int.rate']=data['int.rate'].astype(float)/100\n",
    "\n",
    "\n",
    "\n",
    "#Applying ztest for the hypothesis\n",
    "z_statistic, p_value = ztest(x1=data[data['purpose']=='small_business']['int.rate'], value=data['int.rate'].mean(), alternative='larger')\n",
    "\n",
    "print(('Z-statistic is :{}'.format(z_statistic)))\n",
    "print(('P-value is :{}'.format(p_value)))\n",
    "\n",
    "#Code ends here"
   ]
  },
  {
   "cell_type": "markdown",
   "metadata": {},
   "source": [
    "##### Installment vs Loan Defaulting"
   ]
  },
  {
   "cell_type": "markdown",
   "metadata": {},
   "source": [
    "The bank thinks that monthly installments (installment) customers have to pay might have some sort of effect on loan defaulters\n",
    "\n",
    "Let's do hypothesis testing(two-sided) on that"
   ]
  },
  {
   "cell_type": "code",
   "execution_count": 10,
   "metadata": {},
   "outputs": [
    {
     "name": "stdout",
     "output_type": "stream",
     "text": [
      "Z-statistic is :4.894575287952092\n",
      "P-value is :9.85182562491764e-07\n"
     ]
    }
   ],
   "source": [
    "#Importing header files\n",
    "from statsmodels.stats.weightstats import ztest\n",
    "\n",
    "#Code starts here\n",
    "\n",
    "#Applying ztest for the hypothesis\n",
    "z_statistic, p_value = ztest(x1=data[data['paid.back.loan']=='No']['installment'], x2=data[data['paid.back.loan']=='Yes']['installment'])\n",
    "\n",
    "print(('Z-statistic is :{}'.format(z_statistic)))\n",
    "print(('P-value is :{}'.format(p_value)))\n",
    "\n",
    "#Code ends here"
   ]
  },
  {
   "cell_type": "markdown",
   "metadata": {},
   "source": [
    "##### Purpose vs Loan Defaulting"
   ]
  },
  {
   "cell_type": "markdown",
   "metadata": {},
   "source": [
    "Another thing bank suspects is that there is a strong association between purpose of the loan(purpose column) of a person and whether that person has paid back loan (paid.back.loan column)\n",
    "\n",
    "Since both are categorical columns, we will do chi-square test to test the same."
   ]
  },
  {
   "cell_type": "code",
   "execution_count": 12,
   "metadata": {},
   "outputs": [
    {
     "name": "stdout",
     "output_type": "stream",
     "text": [
      "                     Yes   No\n",
      "all_other           1944  387\n",
      "credit_card         1116  146\n",
      "debt_consolidation  3354  603\n",
      "educational          274   69\n",
      "home_improvement     522  107\n",
      "major_purchase       388   49\n",
      "small_business       447  172\n",
      "\n",
      "Critical value\n",
      "12.591587243743977\n",
      "\n",
      "Chi Statistic\n",
      "96.98469589063261\n"
     ]
    }
   ],
   "source": [
    "#Importing header files\n",
    "from scipy.stats import chi2_contingency\n",
    "\n",
    "#Critical value \n",
    "critical_value = stats.chi2.ppf(q = 0.95, # Find the critical value for 95% confidence*\n",
    "                      df = 6)   # Df = number of variable categories(in purpose) - 1\n",
    "\n",
    "#Code starts here\n",
    "\n",
    "\n",
    "# Subsetting the dataframe\n",
    "yes=data[data['paid.back.loan']=='Yes']['purpose'].value_counts()\n",
    "no=data[data['paid.back.loan']=='No']['purpose'].value_counts()\n",
    "\n",
    "\n",
    "#Concating yes and no into a single dataframe\n",
    "observed=pd.concat([yes.transpose(),no.transpose()], 1,keys=['Yes','No'])\n",
    "\n",
    "print(observed)\n",
    "\n",
    "chi2, p, dof, ex = chi2_contingency(observed)\n",
    "\n",
    "print()\n",
    "print(\"Critical value\")\n",
    "print(critical_value)\n",
    "\n",
    "print()\n",
    "print(\"Chi Statistic\")\n",
    "print(chi2)\n",
    "\n",
    "#Code ends here"
   ]
  },
  {
   "cell_type": "code",
   "execution_count": null,
   "metadata": {},
   "outputs": [],
   "source": []
  }
 ],
 "metadata": {
  "kernelspec": {
   "display_name": "Python 3",
   "language": "python",
   "name": "python3"
  },
  "language_info": {
   "codemirror_mode": {
    "name": "ipython",
    "version": 3
   },
   "file_extension": ".py",
   "mimetype": "text/x-python",
   "name": "python",
   "nbconvert_exporter": "python",
   "pygments_lexer": "ipython3",
   "version": "3.7.3"
  }
 },
 "nbformat": 4,
 "nbformat_minor": 2
}
